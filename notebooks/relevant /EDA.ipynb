version https://git-lfs.github.com/spec/v1
oid sha256:c4627c0e3046ca6479241bdda4a62df232bf7760d009d0617a1db307d34a0dae
size 425479
